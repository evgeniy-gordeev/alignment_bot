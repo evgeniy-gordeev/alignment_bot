{
 "cells": [
  {
   "cell_type": "code",
   "execution_count": 1,
   "id": "72fbcf26",
   "metadata": {
    "scrolled": true
   },
   "outputs": [],
   "source": [
    "#!pip install wandb"
   ]
  },
  {
   "cell_type": "code",
   "execution_count": 2,
   "id": "2d9e083c-82af-450f-a979-98e08ac797ac",
   "metadata": {},
   "outputs": [],
   "source": [
    "#!pip install trl transformers"
   ]
  },
  {
   "cell_type": "code",
   "execution_count": 3,
   "id": "5f2b4617-161b-4c5f-aeb7-e63ba210dd4a",
   "metadata": {},
   "outputs": [],
   "source": [
    "#!pip install torch"
   ]
  },
  {
   "cell_type": "code",
   "execution_count": 3,
   "id": "6b272e4e-ee64-4aab-ae9c-6d6885341a9a",
   "metadata": {},
   "outputs": [],
   "source": [
    "import os\n",
    "import pandas as pd\n",
    "import pyarrow as pa\n",
    "import pyarrow.dataset as ds\n",
    "import torch\n",
    "import wandb\n",
    "\n",
    "from datasets import Dataset, load_dataset\n",
    "from trl import SFTConfig, SFTTrainer\n",
    "from transformers import AutoModelForCausalLM, TrainingArguments\n",
    "\n",
    "wandb.finish()\n",
    "os.environ['WANDB_DISABLED'] = 'true'"
   ]
  },
  {
   "cell_type": "code",
   "execution_count": 11,
   "id": "a02c03be-37f5-450d-b4cb-790ba74b8b18",
   "metadata": {},
   "outputs": [
    {
     "data": {
      "application/vnd.jupyter.widget-view+json": {
       "model_id": "7d8f2b889d884583b27d30d7f64a090a",
       "version_major": 2,
       "version_minor": 0
      },
      "text/plain": [
       "Loading checkpoint shards:   0%|          | 0/4 [00:00<?, ?it/s]"
      ]
     },
     "metadata": {},
     "output_type": "display_data"
    },
    {
     "data": {
      "application/vnd.jupyter.widget-view+json": {
       "model_id": "06cf2c4d139645fcb055749270410196",
       "version_major": 2,
       "version_minor": 0
      },
      "text/plain": [
       "Loading checkpoint shards:   0%|          | 0/4 [00:00<?, ?it/s]"
      ]
     },
     "metadata": {},
     "output_type": "display_data"
    },
    {
     "name": "stdout",
     "output_type": "stream",
     "text": [
      "['Какой текущий курс биткойна к доллару США? Какие факторы влияют на его стоимость?\\n\\nКурс биткойна к доллару США постоянно меняется и зависит от множества факторов, включая:\\n\\n1. **Технологические нововведения и обновления**: Успех или неудача обновлений протокола, таких как SegWit или Lightning Network, могут влиять на восприятие проекта и его стоимость.\\n\\n2. **Регуляторные']\n"
     ]
    }
   ],
   "source": [
    "from transformers import AutoModelForCausalLM, AutoTokenizer\n",
    "import torch\n",
    "\n",
    "model_name = 'test_trainer/checkpoint-18'\n",
    "device = \"cpu\" if torch.cuda.is_available() else \"cpu\"\n",
    "\n",
    "tokenizer = AutoTokenizer.from_pretrained(model_name)\n",
    "inputs = tokenizer(\"Какой текущий курс биткойна к доллару США?\", return_tensors=\"pt\",).to(device)\n",
    "\n",
    "model = AutoModelForCausalLM.from_pretrained(model_name).to(device)\n",
    "assistant_model = AutoModelForCausalLM.from_pretrained(model_name).to(device)\n",
    "outputs = model.generate(**inputs, prompt_lookup_num_tokens=9, use_cache=True, max_new_tokens=100)\n",
    "print(tokenizer.batch_decode(outputs, skip_special_tokens=True))"
   ]
  },
  {
   "cell_type": "code",
   "execution_count": 8,
   "id": "1a0a8bae-115d-4443-b02f-c49f39238d15",
   "metadata": {},
   "outputs": [
    {
     "data": {
      "application/vnd.jupyter.widget-view+json": {
       "model_id": "bd5963588b804053973466b77a6f0923",
       "version_major": 2,
       "version_minor": 0
      },
      "text/plain": [
       "Loading checkpoint shards:   0%|          | 0/4 [00:00<?, ?it/s]"
      ]
     },
     "metadata": {},
     "output_type": "display_data"
    },
    {
     "data": {
      "application/vnd.jupyter.widget-view+json": {
       "model_id": "2b6ae07c04334446826d73e767f1bfd8",
       "version_major": 2,
       "version_minor": 0
      },
      "text/plain": [
       "Loading checkpoint shards:   0%|          | 0/4 [00:00<?, ?it/s]"
      ]
     },
     "metadata": {},
     "output_type": "display_data"
    },
    {
     "name": "stdout",
     "output_type": "stream",
     "text": [
      "['Как изменился курс евро к доллару за последние неделю? Укажите точное значение изменения и направление изменения (рост или падение).\\n\\nДля расчета изменения курса евро к доллару, нам нужно знать текущий курс и курс на начало периода. Давайте предположим, что у нас есть данные за неделю, и мы знаем, что на начало недели курс был 1.15 доллара за евро, а на конец недели — 1.20 доллара за евро.\\n\\n']\n"
     ]
    }
   ],
   "source": [
    "inputs = tokenizer(\"Как изменился курс евро к доллару за последние неделю?\", return_tensors=\"pt\",).to(device)\n",
    "\n",
    "model = AutoModelForCausalLM.from_pretrained(model_name).to(device)\n",
    "assistant_model = AutoModelForCausalLM.from_pretrained(model_name).to(device)\n",
    "outputs = model.generate(**inputs, prompt_lookup_num_tokens=9, use_cache=True, max_new_tokens=100)\n",
    "print(tokenizer.batch_decode(outputs, skip_special_tokens=True))"
   ]
  },
  {
   "cell_type": "code",
   "execution_count": null,
   "id": "51963650-1210-43ea-b3b4-7dd9fdf199df",
   "metadata": {},
   "outputs": [],
   "source": []
  },
  {
   "cell_type": "code",
   "execution_count": null,
   "id": "51329cb2-de9d-4422-991c-f593c305e316",
   "metadata": {},
   "outputs": [],
   "source": []
  }
 ],
 "metadata": {
  "kernelspec": {
   "display_name": "Python 3 (ipykernel)",
   "language": "python",
   "name": "python3"
  },
  "language_info": {
   "codemirror_mode": {
    "name": "ipython",
    "version": 3
   },
   "file_extension": ".py",
   "mimetype": "text/x-python",
   "name": "python",
   "nbconvert_exporter": "python",
   "pygments_lexer": "ipython3",
   "version": "3.10.12"
  }
 },
 "nbformat": 4,
 "nbformat_minor": 5
}
