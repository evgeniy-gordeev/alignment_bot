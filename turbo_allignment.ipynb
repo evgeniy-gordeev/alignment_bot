{
 "cells": [
  {
   "cell_type": "code",
   "execution_count": null,
   "id": "72fbcf26",
   "metadata": {
    "scrolled": true
   },
   "outputs": [],
   "source": [
    "#!pip install wandb"
   ]
  },
  {
   "cell_type": "code",
   "execution_count": null,
   "id": "2d9e083c-82af-450f-a979-98e08ac797ac",
   "metadata": {},
   "outputs": [],
   "source": [
    "#!pip install trl transformers"
   ]
  },
  {
   "cell_type": "code",
   "execution_count": 1,
   "id": "5f2b4617-161b-4c5f-aeb7-e63ba210dd4a",
   "metadata": {},
   "outputs": [],
   "source": [
    "#!pip install torch"
   ]
  },
  {
   "cell_type": "code",
   "execution_count": 2,
   "id": "6b272e4e-ee64-4aab-ae9c-6d6885341a9a",
   "metadata": {},
   "outputs": [],
   "source": [
    "import os\n",
    "import pandas as pd\n",
    "import pyarrow as pa\n",
    "import pyarrow.dataset as ds\n",
    "import torch\n",
    "import wandb\n",
    "\n",
    "from datasets import Dataset, load_dataset\n",
    "from trl import SFTConfig, SFTTrainer\n",
    "from transformers import AutoModelForCausalLM, TrainingArguments\n",
    "\n",
    "wandb.finish()\n",
    "os.environ['WANDB_DISABLED'] = 'true'\n",
    "\n",
    "# dataset = load_dataset(\"imdb\", split=\"train\")\n",
    "\n",
    "# if torch.backends.mps.is_built():\n",
    "#     device = torch.device(\"mps\")\n",
    "\n",
    "model_name = 'AnatoliiPotapov/T-lite-instruct-0.1'"
   ]
  },
  {
   "cell_type": "code",
   "execution_count": 3,
   "id": "fc493cd3-f6f7-4c72-ac01-30a7bb5e9567",
   "metadata": {},
   "outputs": [],
   "source": [
    "texts = [\n",
    "    {\"role\": \"user\", \"content\": \"Каковы текущие котировки акций компании Apple?\"},\n",
    "    {\"role\": \"bot\", \"content\": \"Текущие котировки акций Apple составляют $173.21.\"},\n",
    "    \n",
    "    {\"role\": \"user\", \"content\": \"Какая доходность облигаций государственного займа США на сегодня?\"},\n",
    "    {\"role\": \"bot\", \"content\": \"Доходность облигаций государственного займа США на сегодня составляет 2.75%.\"},\n",
    "    \n",
    "    {\"role\": \"user\", \"content\": \"Расскажи о последних новостях на фондовом рынке.\"},\n",
    "    {\"role\": \"bot\", \"content\": \"Сегодня на фондовом рынке наблюдается рост индексов S&P 500 и NASDAQ после позитивных экономических отчетов.\"},\n",
    "    \n",
    "    {\"role\": \"user\", \"content\": \"Как изменился курс евро к доллару за последние неделю?\"},\n",
    "    {\"role\": \"bot\", \"content\": \"Курс евро к доллару изменился с 1.092 до 1.095 за последнюю неделю.\"},\n",
    "    \n",
    "    {\"role\": \"user\", \"content\": \"Какие акции показали наибольший рост в этом месяце?\"},\n",
    "    {\"role\": \"bot\", \"content\": \"В этом месяце наибольший рост показали акции Tesla, выросшие на 15%.\"},\n",
    "    \n",
    "    {\"role\": \"user\", \"content\": \"Какие компании выплатят дивиденды в этом квартале?\"},\n",
    "    {\"role\": \"bot\", \"content\": \"В этом квартале дивиденды выплатят компании Microsoft, Johnson & Johnson и Coca-Cola.\"},\n",
    "    \n",
    "    {\"role\": \"user\", \"content\": \"Каков прогноз по цене золота на следующий месяц?\"},\n",
    "    {\"role\": \"bot\", \"content\": \"Прогноз по цене золота на следующий месяц предполагает её рост до $1,950 за унцию.\"},\n",
    "    \n",
    "    {\"role\": \"user\", \"content\": \"Какие экономические отчеты ожидаются на этой неделе?\"},\n",
    "    {\"role\": \"bot\", \"content\": \"На этой неделе ожидаются отчеты по безработице и ВВП США.\"},\n",
    "    \n",
    "    {\"role\": \"user\", \"content\": \"Расскажи о финансовых результатах компании Microsoft за последний квартал.\"},\n",
    "    {\"role\": \"bot\", \"content\": \"Компания Microsoft сообщила о доходах в размере $55.5 млрд и чистой прибыли $18.3 млрд за последний квартал.\"},\n",
    "    \n",
    "    {\"role\": \"user\", \"content\": \"Как изменились ставки по ипотечным кредитам в этом месяце?\"},\n",
    "    {\"role\": \"bot\", \"content\": \"Ставки по ипотечным кредитам в этом месяце снизились до 4.20%.\"},\n",
    "    \n",
    "    {\"role\": \"user\", \"content\": \"Какие активы лучше всего инвестировать в условиях нестабильной экономики?\"},\n",
    "    {\"role\": \"bot\", \"content\": \"В условиях нестабильной экономики рекомендуется инвестировать в золото, государственные облигации и диверсифицированные инвестиционные фонды.\"},\n",
    "    \n",
    "    {\"role\": \"user\", \"content\": \"Что такое криптовалюта и как она работает?\"},\n",
    "    {\"role\": \"bot\", \"content\": \"Криптовалюта — это цифровая валюта, использующая криптографию для обеспечения безопасности транзакций. Работает на основе блокчейн-технологии.\"},\n",
    "    \n",
    "    {\"role\": \"user\", \"content\": \"Какие акции торгуются на Нью-Йоркской фондовой бирже?\"},\n",
    "    {\"role\": \"bot\", \"content\": \"На Нью-Йоркской фондовой бирже торгуются такие акции, как IBM, Pfizer, Bank of America и многие другие.\"},\n",
    "    \n",
    "    {\"role\": \"user\", \"content\": \"Какой прогноз по цене нефти на следующий квартал?\"},\n",
    "    {\"role\": \"bot\", \"content\": \"Прогноз по цене нефти на следующий квартал предполагает её снижение до $70 за баррель.\"},\n",
    "    \n",
    "    {\"role\": \"user\", \"content\": \"Какой текущий курс биткойна к доллару США?\"},\n",
    "    {\"role\": \"bot\", \"content\": \"Текущий курс биткойна к доллару США составляет $27,500.\"},\n",
    "    \n",
    "    {\"role\": \"user\", \"content\": \"Какие факторы влияют на изменение валютного курса?\"},\n",
    "    {\"role\": \"bot\", \"content\": \"На изменение валютного курса влияют экономические показатели, политические события, рыночные ожидания и действия центральных банков.\"},\n",
    "    \n",
    "    {\"role\": \"user\", \"content\": \"Какие инвестиции лучше всего подходят для пенсионного плана?\"},\n",
    "    {\"role\": \"bot\", \"content\": \"Для пенсионного плана подойдут диверсифицированные инвестиционные фонды, облигации и высокодоходные акции компаний с долгой историей выплат дивидендов.\"},\n",
    "    \n",
    "    {\"role\": \"user\", \"content\": \"Какие новости из Китая могут повлиять на мировую экономику?\"},\n",
    "    {\"role\": \"bot\", \"content\": \"Новости из Китая, такие как изменения в экономической политике, данные по ВВП или торговые соглашения, могут значительно повлиять на мировую экономику.\"},\n",
    "    \n",
    "    {\"role\": \"user\", \"content\": \"Каков текущий тренд на рынке недвижимости?\"},\n",
    "    {\"role\": \"bot\", \"content\": \"Текущий тренд на рынке недвижимости показывает рост цен на жилье в крупных городах и замедление темпов роста в пригородах.\"},\n",
    "    \n",
    "    {\"role\": \"user\", \"content\": \"Какие риски связаны с инвестированием в стартапы?\"},\n",
    "    {\"role\": \"bot\", \"content\": \"Риски инвестирования в стартапы включают высокий уровень неопределенности, отсутствие доходов на начальных этапах и потенциальные проблемы с управлением компанией.\"},\n",
    "    \n",
    "    {\"role\": \"user\", \"content\": \"Как выбрать хорошего финансового консультанта?\"},\n",
    "    {\"role\": \"bot\", \"content\": \"Для выбора хорошего финансового консультанта важно учитывать его опыт, репутацию, уровень сертификации и подход к управлению инвестициями.\"},\n",
    "    \n",
    "    {\"role\": \"user\", \"content\": \"Как изменяются фондовые индексы в зависимости от экономических условий?\"},\n",
    "    {\"role\": \"bot\", \"content\": \"Фондовые индексы могут расти в условиях экономического роста и снижения, и наоборот, падать в условиях экономического спада.\"}\n",
    "]"
   ]
  },
  {
   "cell_type": "code",
   "execution_count": 4,
   "id": "8b1c0ce5-697c-4d85-a9bf-710502a0d066",
   "metadata": {},
   "outputs": [],
   "source": [
    "# Преобразование в формат id, source, message\n",
    "formatted_texts = []\n",
    "id_counter = 1\n",
    "\n",
    "for i in range(0, len(texts), 2):\n",
    "    user_message = texts[i]['content']\n",
    "    bot_message = texts[i + 1]['content']\n",
    "    \n",
    "    formatted_texts.append({\n",
    "        \"id\": id_counter,\n",
    "        \"source\": \"user\",\n",
    "        \"message\": user_message\n",
    "    })\n",
    "    \n",
    "    formatted_texts.append({\n",
    "        \"id\": id_counter,\n",
    "        \"source\": \"bot\",\n",
    "        \"message\": bot_message\n",
    "    })\n",
    "    \n",
    "    id_counter += 1"
   ]
  },
  {
   "cell_type": "code",
   "execution_count": 5,
   "id": "2ca19d72-285d-4817-b4c2-eb3738185c13",
   "metadata": {},
   "outputs": [],
   "source": [
    "df = pd.DataFrame(\n",
    "    {\n",
    "        'id': [item['id'] for item in formatted_texts],\n",
    "        'source': [item['source'] for item in formatted_texts],\n",
    "        'message': [item['message'] for item in formatted_texts]\n",
    "    }\n",
    ")\n",
    "hg_dataset = Dataset(pa.Table.from_pandas(df))"
   ]
  },
  {
   "cell_type": "code",
   "execution_count": 6,
   "id": "0db687cd-b370-41ae-bb9e-c41050e7cf2c",
   "metadata": {},
   "outputs": [],
   "source": [
    "# model = AutoModelForCausalLM.from_pretrained(model_name)\n",
    "# sft_config = TrainingArguments(output_dir='test_trainer', use_cpu=True)\n",
    "\n",
    "# trainer = SFTTrainer(\n",
    "#     model,\n",
    "#     train_dataset=hg_dataset,\n",
    "#     args=sft_config,\n",
    "#     # args=SFTConfig(),\n",
    "#     dataset_text_field=\"message\",\n",
    "#     packing=False,\n",
    "#     max_seq_length=512\n",
    "# )\n",
    "\n",
    "# # model.config.use_cache = False\n",
    "# trainer.train()"
   ]
  },
  {
   "cell_type": "code",
   "execution_count": 8,
   "id": "53a6fb87-1011-4bc4-981f-90f70ea582c9",
   "metadata": {},
   "outputs": [
    {
     "data": {
      "application/vnd.jupyter.widget-view+json": {
       "model_id": "7c9804cf364646ddbb95038507615f7d",
       "version_major": 2,
       "version_minor": 0
      },
      "text/plain": [
       "Loading checkpoint shards:   0%|          | 0/4 [00:00<?, ?it/s]"
      ]
     },
     "metadata": {},
     "output_type": "display_data"
    },
    {
     "name": "stderr",
     "output_type": "stream",
     "text": [
      "Using the `WANDB_DISABLED` environment variable is deprecated and will be removed in v5. Use the --report_to flag to control the integrations used for logging result (for instance --report_to none).\n",
      "/home/user1/environments/hack/lib/python3.10/site-packages/huggingface_hub/utils/_deprecation.py:100: FutureWarning: Deprecated argument(s) used in '__init__': dataset_text_field, max_seq_length. Will not be supported from version '1.0.0'.\n",
      "\n",
      "Deprecated positional argument(s) used in SFTTrainer, please use the SFTConfig to set these arguments instead.\n",
      "  warnings.warn(message, FutureWarning)\n",
      "/home/user1/environments/hack/lib/python3.10/site-packages/trl/trainer/sft_trainer.py:283: UserWarning: You passed a `max_seq_length` argument to the SFTTrainer, the value you passed will override the one in the `SFTConfig`.\n",
      "  warnings.warn(\n",
      "/home/user1/environments/hack/lib/python3.10/site-packages/trl/trainer/sft_trainer.py:321: UserWarning: You passed a `dataset_text_field` argument to the SFTTrainer, the value you passed will override the one in the `SFTConfig`.\n",
      "  warnings.warn(\n"
     ]
    },
    {
     "data": {
      "application/vnd.jupyter.widget-view+json": {
       "model_id": "184ce6bbac0a48f5b30d83c73c2ebcb3",
       "version_major": 2,
       "version_minor": 0
      },
      "text/plain": [
       "Map:   0%|          | 0/44 [00:00<?, ? examples/s]"
      ]
     },
     "metadata": {},
     "output_type": "display_data"
    },
    {
     "data": {
      "text/html": [
       "\n",
       "    <div>\n",
       "      \n",
       "      <progress value='18' max='18' style='width:300px; height:20px; vertical-align: middle;'></progress>\n",
       "      [18/18 07:40, Epoch 3/3]\n",
       "    </div>\n",
       "    <table border=\"1\" class=\"dataframe\">\n",
       "  <thead>\n",
       " <tr style=\"text-align: left;\">\n",
       "      <th>Step</th>\n",
       "      <th>Training Loss</th>\n",
       "    </tr>\n",
       "  </thead>\n",
       "  <tbody>\n",
       "  </tbody>\n",
       "</table><p>"
      ],
      "text/plain": [
       "<IPython.core.display.HTML object>"
      ]
     },
     "metadata": {},
     "output_type": "display_data"
    },
    {
     "data": {
      "text/plain": [
       "TrainOutput(global_step=18, training_loss=1.7174984614054363, metrics={'train_runtime': 494.0819, 'train_samples_per_second': 0.267, 'train_steps_per_second': 0.036, 'total_flos': 243741351739392.0, 'train_loss': 1.7174984614054363, 'epoch': 3.0})"
      ]
     },
     "execution_count": 8,
     "metadata": {},
     "output_type": "execute_result"
    }
   ],
   "source": [
    "# !pip install trl # PEFT\n",
    "# !pip install git+https://github.com/huggingface/peft.git # PEFT\n",
    "# !pip install -U git+https://github.com/huggingface/transformers.git # flash-attention\n",
    "\n",
    "import json\n",
    "import os\n",
    "import pandas as pd\n",
    "import pyarrow as pa\n",
    "import pyarrow.dataset as ds\n",
    "import torch\n",
    "import wandb\n",
    "\n",
    "from datasets import Dataset, load_dataset\n",
    "from peft import LoraConfig\n",
    "from trl import ModelConfig, SFTConfig, SFTTrainer\n",
    "from transformers import AutoModelForCausalLM, TrainingArguments\n",
    "\n",
    "model_name = 'AnatoliiPotapov/T-lite-instruct-0.1'\n",
    "\n",
    "model_config = ModelConfig(\n",
    "    model_name_or_path=model_name,\n",
    "    attn_implementation='flash_attention_2'\n",
    ")\n",
    "\n",
    "#device = torch.device(\"cuda:2\" if torch.cuda.is_available() else \"cpu\")\n",
    "model = AutoModelForCausalLM.from_pretrained(model_name)\n",
    "sft_config = TrainingArguments(output_dir='test_trainer', use_cpu=True)\n",
    "\n",
    "peft_config = LoraConfig(\n",
    "    r=16,\n",
    "    lora_alpha=32,\n",
    "    lora_dropout=0.05,\n",
    "    bias=\"none\",\n",
    "    task_type=\"CAUSAL_LM\",\n",
    ")\n",
    "\n",
    "trainer = SFTTrainer(\n",
    "    model,\n",
    "    train_dataset=hg_dataset,\n",
    "    args=sft_config,\n",
    "    dataset_text_field=\"message\",\n",
    "    packing=False,\n",
    "    peft_config=peft_config,\n",
    "    max_seq_length=256\n",
    ")\n",
    "\n",
    "trainer.train()"
   ]
  },
  {
   "cell_type": "code",
   "execution_count": null,
   "id": "0ea91d10-95ac-4fdc-80d3-c1e7f026adf0",
   "metadata": {},
   "outputs": [],
   "source": []
  }
 ],
 "metadata": {
  "kernelspec": {
   "display_name": "Python 3 (ipykernel)",
   "language": "python",
   "name": "python3"
  },
  "language_info": {
   "codemirror_mode": {
    "name": "ipython",
    "version": 3
   },
   "file_extension": ".py",
   "mimetype": "text/x-python",
   "name": "python",
   "nbconvert_exporter": "python",
   "pygments_lexer": "ipython3",
   "version": "3.10.12"
  }
 },
 "nbformat": 4,
 "nbformat_minor": 5
}
